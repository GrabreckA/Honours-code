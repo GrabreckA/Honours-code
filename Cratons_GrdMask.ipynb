{
 "cells": [
  {
   "cell_type": "code",
   "execution_count": 1,
   "metadata": {},
   "outputs": [
    {
     "name": "stdout",
     "output_type": "stream",
     "text": [
      "['', 'C:\\\\programs\\\\pygplates_rev18_python27_win32', 'C:\\\\Users\\\\grabr\\\\Anaconda2.1\\\\python27.zip', 'C:\\\\Users\\\\grabr\\\\Anaconda2.1\\\\DLLs', 'C:\\\\Users\\\\grabr\\\\Anaconda2.1\\\\lib', 'C:\\\\Users\\\\grabr\\\\Anaconda2.1\\\\lib\\\\plat-win', 'C:\\\\Users\\\\grabr\\\\Anaconda2.1\\\\lib\\\\lib-tk', 'C:\\\\Users\\\\grabr\\\\Anaconda2.1', 'C:\\\\Users\\\\grabr\\\\Anaconda2.1\\\\lib\\\\site-packages', 'C:\\\\Users\\\\grabr\\\\Anaconda2.1\\\\lib\\\\site-packages\\\\win32', 'C:\\\\Users\\\\grabr\\\\Anaconda2.1\\\\lib\\\\site-packages\\\\win32\\\\lib', 'C:\\\\Users\\\\grabr\\\\Anaconda2.1\\\\lib\\\\site-packages\\\\Pythonwin', 'C:\\\\Users\\\\grabr\\\\Anaconda2.1\\\\lib\\\\site-packages\\\\IPython\\\\extensions', 'C:\\\\Users\\\\grabr\\\\.ipython']\n"
     ]
    }
   ],
   "source": [
    "import sys\n",
    "import os\n",
    "import os.path\n",
    "import subprocess\n",
    " \n",
    "#sys.path.insert(1, 'C:/programs/GMT4/')\n",
    "#sys.path.insert(1, 'C:/programs/GMT4/bin/')\n",
    "\n",
    "print sys.path\n",
    "grdmask Users/grabr/Desktop/HonoursData/GPlatesCratons/Archean/reconstructed_0.00Ma.xy -Rg -M -I0.1 -NNaN/1/1 -V -Gtest.nc\n",
    "\n"
   ]
  },
  {
   "cell_type": "code",
   "execution_count": 2,
   "metadata": {},
   "outputs": [
    {
     "name": "stdout",
     "output_type": "stream",
     "text": [
      "makecpt -Cpolar -T-6000/6000/500 -D > topo.cpt\n"
     ]
    },
    {
     "data": {
      "text/plain": [
       "0"
      ]
     },
     "execution_count": 2,
     "metadata": {},
     "output_type": "execute_result"
    }
   ],
   "source": [
    "cmd=\"makecpt -Cpolar -T-6000/6000/500 -D > topo.cpt\"\n",
    "print cmd\n",
    "os.system(cmd)"
   ]
  },
  {
   "cell_type": "code",
   "execution_count": 5,
   "metadata": {},
   "outputs": [
    {
     "data": {
      "text/plain": [
       "255"
      ]
     },
     "execution_count": 5,
     "metadata": {},
     "output_type": "execute_result"
    }
   ],
   "source": [
    "grd='C:/Users/grabr/Desktop/HonoursData/LLSVP-models-time-dependent-clusters/gld405/gld405_1000_2800_580.nc'\n",
    "cmd=\"grdinfo %(grd)s | findstr z_min | gawk '{print $3}' \" % vars()\n",
    "os.system(cmd)\n",
    "#cont1=float(os.popen(cmd).read())\n",
    "#print cont1"
   ]
  },
  {
   "cell_type": "code",
   "execution_count": 6,
   "metadata": {},
   "outputs": [
    {
     "data": {
      "text/plain": [
       "0"
      ]
     },
     "execution_count": 6,
     "metadata": {},
     "output_type": "execute_result"
    }
   ],
   "source": [
    "cmd='grdmask C:/Users/grabr/Desktop/HonoursData/GPlatesCratons/Archean/reconstructed_0.00Ma.xy -Rg -M -I0.1 -NNaN/1/1 -V -Gtest.nc'\n",
    "os.system(cmd)\n"
   ]
  },
  {
   "cell_type": "code",
   "execution_count": null,
   "metadata": {},
   "outputs": [],
   "source": []
  }
 ],
 "metadata": {
  "kernelspec": {
   "display_name": "Python 2",
   "language": "python",
   "name": "python2"
  },
  "language_info": {
   "codemirror_mode": {
    "name": "ipython",
    "version": 2
   },
   "file_extension": ".py",
   "mimetype": "text/x-python",
   "name": "python",
   "nbconvert_exporter": "python",
   "pygments_lexer": "ipython2",
   "version": "2.7.16"
  }
 },
 "nbformat": 4,
 "nbformat_minor": 2
}
